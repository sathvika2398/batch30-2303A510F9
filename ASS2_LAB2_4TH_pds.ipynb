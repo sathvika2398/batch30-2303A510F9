{
  "nbformat": 4,
  "nbformat_minor": 0,
  "metadata": {
    "colab": {
      "provenance": [],
      "authorship_tag": "ABX9TyNaHE1bxotGu+TEffOwZyHp"
    },
    "kernelspec": {
      "name": "python3",
      "display_name": "Python 3"
    },
    "language_info": {
      "name": "python"
    }
  },
  "cells": [
    {
      "cell_type": "code",
      "execution_count": 7,
      "metadata": {
        "colab": {
          "base_uri": "https://localhost:8080/"
        },
        "id": "-vRwj4hDCNCZ",
        "outputId": "56d3d32c-beb4-45dd-aae0-009a4e6a5a9b"
      },
      "outputs": [
        {
          "output_type": "stream",
          "name": "stdout",
          "text": [
            "   Order ID     Product  Quantity  Price\n",
            "0       101      Laptop         1   1200\n",
            "1       102  Smartphone         2    800\n",
            "2       103      Tablet         3    300\n",
            "3       104      Laptop         1   1300\n",
            "4       105     Monitor         2    200\n",
            "5       106    Keyboard         5     50\n",
            "6       107       Mouse        10     20\n",
            "7       108  Smartphone         1    900\n"
          ]
        }
      ],
      "source": [
        "import pandas as pd\n",
        "data = {\n",
        "    'Order ID': [101, 102, 103, 104, 105, 106, 107, 108],\n",
        "    'Product': ['Laptop', 'Smartphone', 'Tablet', 'Laptop', 'Monitor', 'Keyboard', 'Mouse', 'Smartphone'],\n",
        "    'Quantity': [1, 2, 3, 1, 2, 5, 10, 1],\n",
        "    'Price': [1200, 800, 300, 1300, 200, 50, 20, 900]\n",
        "}\n",
        "df = pd.DataFrame(data)\n",
        "print(df)\n",
        "\n"
      ]
    },
    {
      "cell_type": "code",
      "source": [
        "df['Total Sale'] = df['Quantity'] * df['Price']\n",
        "print(df)\n"
      ],
      "metadata": {
        "colab": {
          "base_uri": "https://localhost:8080/"
        },
        "id": "J6sHcpxzCTts",
        "outputId": "9693cf84-717d-4191-ebe4-45cd5ff58eea"
      },
      "execution_count": 8,
      "outputs": [
        {
          "output_type": "stream",
          "name": "stdout",
          "text": [
            "   Order ID     Product  Quantity  Price  Total Sale\n",
            "0       101      Laptop         1   1200        1200\n",
            "1       102  Smartphone         2    800        1600\n",
            "2       103      Tablet         3    300         900\n",
            "3       104      Laptop         1   1300        1300\n",
            "4       105     Monitor         2    200         400\n",
            "5       106    Keyboard         5     50         250\n",
            "6       107       Mouse        10     20         200\n",
            "7       108  Smartphone         1    900         900\n"
          ]
        }
      ]
    },
    {
      "cell_type": "code",
      "source": [
        "filtered_df = df[df['Total Sale'] > 1000]\n",
        "print(df)\n",
        "\n"
      ],
      "metadata": {
        "colab": {
          "base_uri": "https://localhost:8080/"
        },
        "id": "hHQ9hPK0CXUr",
        "outputId": "5ace348b-be86-4372-948d-db839481f481"
      },
      "execution_count": 9,
      "outputs": [
        {
          "output_type": "stream",
          "name": "stdout",
          "text": [
            "   Order ID     Product  Quantity  Price  Total Sale\n",
            "0       101      Laptop         1   1200        1200\n",
            "1       102  Smartphone         2    800        1600\n",
            "2       103      Tablet         3    300         900\n",
            "3       104      Laptop         1   1300        1300\n",
            "4       105     Monitor         2    200         400\n",
            "5       106    Keyboard         5     50         250\n",
            "6       107       Mouse        10     20         200\n",
            "7       108  Smartphone         1    900         900\n"
          ]
        }
      ]
    },
    {
      "cell_type": "code",
      "source": [
        "most_sold = df.groupby('Product')['Quantity'].sum().sort_values(ascending=False)\n",
        "print(df)\n",
        "\n"
      ],
      "metadata": {
        "colab": {
          "base_uri": "https://localhost:8080/"
        },
        "id": "gPi_t44GCbym",
        "outputId": "d60bf851-0ad2-4e9a-848f-d091c963778e"
      },
      "execution_count": 10,
      "outputs": [
        {
          "output_type": "stream",
          "name": "stdout",
          "text": [
            "   Order ID     Product  Quantity  Price  Total Sale\n",
            "0       101      Laptop         1   1200        1200\n",
            "1       102  Smartphone         2    800        1600\n",
            "2       103      Tablet         3    300         900\n",
            "3       104      Laptop         1   1300        1300\n",
            "4       105     Monitor         2    200         400\n",
            "5       106    Keyboard         5     50         250\n",
            "6       107       Mouse        10     20         200\n",
            "7       108  Smartphone         1    900         900\n"
          ]
        }
      ]
    },
    {
      "cell_type": "code",
      "source": [
        "def calculate_discount(sale):\n",
        "    if sale > 2000:\n",
        "        return 0.15\n",
        "    elif sale > 1000:\n",
        "        return 0.10\n",
        "    else:\n",
        "        return 0.05\n",
        "df['Discount'] = df['Total Sale'].apply(calculate_discount)\n",
        "print(df)\n",
        "\n"
      ],
      "metadata": {
        "colab": {
          "base_uri": "https://localhost:8080/"
        },
        "id": "Qo_ux8DMCfn8",
        "outputId": "17264599-0e69-4005-edb1-c3bbdb9067cb"
      },
      "execution_count": 11,
      "outputs": [
        {
          "output_type": "stream",
          "name": "stdout",
          "text": [
            "   Order ID     Product  Quantity  Price  Total Sale  Discount\n",
            "0       101      Laptop         1   1200        1200      0.10\n",
            "1       102  Smartphone         2    800        1600      0.10\n",
            "2       103      Tablet         3    300         900      0.05\n",
            "3       104      Laptop         1   1300        1300      0.10\n",
            "4       105     Monitor         2    200         400      0.05\n",
            "5       106    Keyboard         5     50         250      0.05\n",
            "6       107       Mouse        10     20         200      0.05\n",
            "7       108  Smartphone         1    900         900      0.05\n"
          ]
        }
      ]
    },
    {
      "cell_type": "code",
      "source": [
        "df.to_excel('sales_summary.xlsx', index=False)\n",
        "df.to_excel('sales_summary.xlsx', index=False)\n",
        "print(\"Excel file 'sales_summary.xlsx' created successfully.\")\n",
        "\n"
      ],
      "metadata": {
        "colab": {
          "base_uri": "https://localhost:8080/"
        },
        "id": "Xn4Nl4_iCjWM",
        "outputId": "6fadfb73-f44d-48eb-a4e2-859672bd2f05"
      },
      "execution_count": 12,
      "outputs": [
        {
          "output_type": "stream",
          "name": "stdout",
          "text": [
            "Excel file 'sales_summary.xlsx' created successfully.\n"
          ]
        }
      ]
    }
  ]
}